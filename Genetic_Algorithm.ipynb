{
 "cells": [
  {
   "cell_type": "markdown",
   "metadata": {},
   "source": [
    "# <b> Spotfiy Recommender System\n"
   ]
  },
  {
   "cell_type": "markdown",
   "metadata": {},
   "source": [
    "<h3> \n",
    "System: Genetic Algorithm <br>\n",
    "API: Spotify for Developers <br>\n",
    "Lang: Python (conda base)<br>\n",
    "Copyright: 2021 <br> \n",
    "Developer: Martin Erickson Lapetaje\n",
    "</h3>\n"
   ]
  },
  {
   "cell_type": "markdown",
   "metadata": {},
   "source": [
    "## Imports\n"
   ]
  },
  {
   "cell_type": "code",
   "execution_count": 12,
   "metadata": {},
   "outputs": [],
   "source": [
    "import json\n",
    "from typing import List\n",
    "import requests\n",
    "from requests.structures import CaseInsensitiveDict"
   ]
  },
  {
   "cell_type": "markdown",
   "metadata": {},
   "source": [
    "## Constant Variables\n"
   ]
  },
  {
   "cell_type": "code",
   "execution_count": 13,
   "metadata": {},
   "outputs": [],
   "source": [
    "TOKEN_ACCESS_TRACK = \"Bearer BQCsSlCmmf7mDCFKRB8N3uEDYttx2YI76xR-OTfoCFuwRayHsjBz4enY3-vtVuEDMkLPsUnfV7N-Tpumdyn_1a0Vx0lPWh7Y2mShxQ2QUCekPvqMQ7eajuHPiRkWEewdoQo2zWn6JKbPh7pHyTbf_cerdVfqu5971HweFJmmHYB2b0iXQI3j5FTR3Paz\"\n",
    "TOKEN_ACCESS_GENRE = \"Bearer BQBBKLxHDyj73VN3iJ_vBQkRNjOG_eM5-m_0LerpquF1srV3J7wIOyY5ACS_ierqpkoqDtkR15eSiapguAHm2V2OeULssCJUV1QjZPqKX6NlmGM59eo6lwmbRlwnjOQYSRuURshAz7OBK_FOIO2A17LgY5dUzpWnKHvQjs_BtZKVgjaLfz8TYjozTfqB\"\n",
    "\n",
    "LIMIT = 10\n"
   ]
  },
  {
   "cell_type": "markdown",
   "metadata": {},
   "source": [
    "## GET Top Tracks\n"
   ]
  },
  {
   "cell_type": "code",
   "execution_count": 14,
   "metadata": {},
   "outputs": [],
   "source": [
    "\n",
    "url = f\"https://api.spotify.com/v1/me/tracks?market=ES&limit={LIMIT}&offset=5\"\n",
    "\n",
    "headers = CaseInsensitiveDict()\n",
    "headers[\"Accept\"] = \"application/json\"\n",
    "headers[\"Content-Type\"] = \"application/json\"\n",
    "headers[\"Authorization\"] = TOKEN_ACCESS_TRACK\n",
    "\n",
    "\n",
    "resp = requests.get(url, headers=headers)\n",
    "\n"
   ]
  },
  {
   "cell_type": "markdown",
   "metadata": {},
   "source": [
    "## Print API Query\n"
   ]
  },
  {
   "cell_type": "code",
   "execution_count": 15,
   "metadata": {},
   "outputs": [
    {
     "name": "stdout",
     "output_type": "stream",
     "text": [
      "200\n",
      "\n",
      "track:\tNangangamba\n",
      "id:\t67IN4cLJ7798gUapyZlmac\n",
      "artist:\tZack Tabudlo\n",
      "\n",
      "track:\tBinibini\n",
      "id:\t67IN4cLJ7798gUapyZlmac\n",
      "artist:\tZack Tabudlo\n",
      "\n",
      "track:\tI Need You More Today\n",
      "id:\t3XEHRbR9NMWfNzQ6TQMS9M\n",
      "artist:\tCaleb Santos\n",
      "\n",
      "track:\t\"Awaken, My Love!\"\n",
      "id:\t73sIBHcqh3Z3NyqHKZ7FOL\n",
      "artist:\tChildish Gambino\n",
      "\n",
      "track:\tStarboy\n",
      "id:\t1Xyo4u8uXC1ZmMpatF05PJ\n",
      "artist:\tThe Weeknd\n",
      "\n",
      "track:\tLove Lies (with Normani)\n",
      "id:\t6LuN9FCkKOj5PcnpouEgny\n",
      "artist:\tKhalid\n",
      "\n",
      "track:\tSuncity\n",
      "id:\t6LuN9FCkKOj5PcnpouEgny\n",
      "artist:\tKhalid\n",
      "\n",
      "track:\tlove is not dying\n",
      "id:\t3gIRvgZssIb9aiirIg0nI3\n",
      "artist:\tJeremy Zucker\n",
      "\n",
      "track:\tBALLADS 1\n",
      "id:\t3MZsBdqDrRTJihTHQrO6Dq\n",
      "artist:\tJoji\n",
      "\n",
      "track:\tTitig\n",
      "id:\t7dxr6AabRWhsfYRyVJlErK\n",
      "artist:\tMC Einstein\n",
      "\n"
     ]
    }
   ],
   "source": [
    "parsed = resp.json()\n",
    "print(resp.status_code)\n",
    "print()\n",
    "\n",
    "ids = []\n",
    "for i in range(10):\n",
    "    ids.append(parsed['items'][i]['track']\n",
    "               ['album']['artists'][0]['id'])\n",
    "\n",
    "    print('track:\\t' + parsed['items'][i]['track']\n",
    "          ['album']['name'])\n",
    "\n",
    "    print('id:\\t' + parsed['items'][i]['track']\n",
    "          ['album']['artists'][0]['id'])\n",
    "\n",
    "    print('artist:\\t' + parsed['items'][i]['track']\n",
    "          ['album']['artists'][0]['name'])\n",
    "\n",
    "    print()\n"
   ]
  },
  {
   "cell_type": "markdown",
   "metadata": {},
   "source": [
    "## GET Genre From Artists\n"
   ]
  },
  {
   "cell_type": "code",
   "execution_count": 22,
   "metadata": {},
   "outputs": [],
   "source": [
    "\n",
    "modified_ids = \", \".join(ids)\n",
    "modified_ids = modified_ids.replace(' ', '')\n",
    "\n",
    "url = f\"https://api.spotify.com/v1/artists?ids={modified_ids}\"\n",
    "\n",
    "headers[\"Accept\"] = \"application/json\"\n",
    "headers[\"Content-Type\"] = \"application/json\"\n",
    "headers[\"Authorization\"] = TOKEN_ACCESS_GENRE\n",
    "\n",
    "resp = requests.get(url, headers=headers)\n",
    "\n",
    "parsed = resp.json()\n",
    "\n",
    "#print(json.dumps(parsed, indent=4, sort_keys=True))\n",
    "\n",
    "\n",
    "\n",
    "\n",
    "# genre = {}\n",
    "# for i in range(10):\n",
    "#     if parsed['artists'][i]['genres'] in genre[parsed['artists'][i]['genres']].keys():\n",
    "#         genre[parsed['artists'][i]['genres']] += 1\n",
    "#     else:\n",
    "#         genre[parsed['artists'][i]['genres']] = 1\n",
    "\n",
    "# print(genre)\n"
   ]
  },
  {
   "cell_type": "markdown",
   "metadata": {},
   "source": [
    "## Print API Query of Genres"
   ]
  },
  {
   "cell_type": "code",
   "execution_count": 37,
   "metadata": {},
   "outputs": [
    {
     "name": "stdout",
     "output_type": "stream",
     "text": [
      "[['acoustic opm', 'opm'], ['acoustic opm', 'opm'], ['acoustic opm'], ['atl hip hop', 'hip hop', 'pop rap', 'rap'], ['canadian contemporary r&b', 'canadian pop', 'pop'], ['pop', 'pop r&b'], ['pop', 'pop r&b'], ['electropop', 'pop'], ['alternative r&b', 'viral pop'], ['pinoy hip hop', 'tagalog rap']]\n",
      "\n",
      "{'acoustic opm': 3, 'opm': 2, 'atl hip hop': 1, 'hip hop': 1, 'pop rap': 1, 'rap': 1, 'canadian contemporary r&b': 1, 'canadian pop': 1, 'pop': 4, 'pop r&b': 2, 'electropop': 1, 'alternative r&b': 1, 'viral pop': 1, 'pinoy hip hop': 1, 'tagalog rap': 1}\n"
     ]
    }
   ],
   "source": [
    "genres = []\n",
    "for i in range(10):\n",
    "    genres.append(parsed['artists'][i]['genres'])\n",
    "\n",
    "print(genres)\n",
    "\n",
    "genre_occurance = {}\n",
    "for genre in genres:\n",
    "    for i in genre:\n",
    "        if  i in genre_occurance.keys():\n",
    "            genre_occurance[i] += 1\n",
    "        else:\n",
    "            genre_occurance[i] = 1           \n",
    "\n",
    "print()        \n",
    "print(genre_occurance.sort)"
   ]
  }
 ],
 "metadata": {
  "interpreter": {
   "hash": "26e28dbb8479d65e1a830583afe7744fda406e9fe9643cdecb71cada50817399"
  },
  "kernelspec": {
   "display_name": "Python 3.8.8 64-bit ('base': conda)",
   "name": "python3"
  },
  "language_info": {
   "codemirror_mode": {
    "name": "ipython",
    "version": 3
   },
   "file_extension": ".py",
   "mimetype": "text/x-python",
   "name": "python",
   "nbconvert_exporter": "python",
   "pygments_lexer": "ipython3",
   "version": "3.8.8"
  },
  "orig_nbformat": 4
 },
 "nbformat": 4,
 "nbformat_minor": 2
}
