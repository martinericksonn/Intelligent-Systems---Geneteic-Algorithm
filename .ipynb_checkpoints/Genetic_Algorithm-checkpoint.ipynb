{
 "cells": [
  {
   "cell_type": "markdown",
   "metadata": {},
   "source": [
    "# <h1><b> Spotfiy Recommender System\n"
   ]
  },
  {
   "cell_type": "markdown",
   "metadata": {},
   "source": [
    "<h3> \n",
    "System: Genetic Algorithm <br>\n",
    "API: Spotify for Developers <br>\n",
    "Lang: Python (conda base)<br>\n",
    "Copyright: 2021 <br> \n",
    "Developer: Martin Erickson Lapetaje\n",
    "</h3>\n"
   ]
  },
  {
   "cell_type": "markdown",
   "metadata": {},
   "source": [
    "## Replace fields below"
   ]
  },
  {
   "cell_type": "code",
   "execution_count": null,
   "metadata": {},
   "outputs": [],
   "source": [
    "TOKEN_ACCESS = 'Bearer BQD9tppQWjAYLdXvmgSolAQ_0U5MH-kRy8_Jc68tTmX6d6c8pwwVoXIrL4Lva94Eiy4q8sx6wk8gAo3oaaEza3tBaCR9GbR0xdJUTJitTtIskSgOQNoLtSQIgZzy2bc-bhuLZHn4F_pc1n36fBrwHubdluZHem5AVmwk-FrGKdHgNF3qIiwJ_D845befFrnOmW-06ayduqttFo51X5WMgK3o8nVgta8DNXdtk_iX-7sAAziIq_OKh2RglA'\n",
    "USER_ID = '22ss5cgw4ofmnwzoq3evu7gpa'"
   ]
  },
  {
   "cell_type": "markdown",
   "metadata": {},
   "source": [
    "## Imports\n"
   ]
  },
  {
   "cell_type": "code",
   "execution_count": null,
   "metadata": {},
   "outputs": [],
   "source": [
    "import json\n",
    "from typing import List\n",
    "import requests \n",
    "from requests.structures import CaseInsensitiveDict\n",
    "import numpy as np\n",
    "import random"
   ]
  },
  {
   "cell_type": "markdown",
   "metadata": {},
   "source": [
    "\n",
    "## Constant Variables\n",
    "\n",
    "### refresh tokens\n",
    "<a href=\"https://developer.spotify.com/console/get-current-user-saved-tracks/?market=ES&limit=10&offset=5\">TOKEN_ACCESS_SAVED_TRACKS </a><br>\n",
    "<a href=\"https://developer.spotify.com/console/get-several-artists/?ids=\">TOKEN_ACCESS_SEVERAL_ARTIST </a><br>\n",
    "<a href=\"https://developer.spotify.com/console/get-featured-playlists/?country=PH&locale=&timestamp=&limit=&offset=\">TOKEN_ACCESS_SAVED_TRACKS </a><br>\n",
    "<a href=\"https://developer.spotify.com/console/get-playlist-tracks/?playlist_id=37i9dQZF1DXcZQSjptOQtk&market=PH&fields=&limit=&offset=&additional_types=\">TOKEN_ACCESS_PLAYLIST_ITEMS </a><br>\n"
   ]
  },
  {
   "cell_type": "code",
   "execution_count": null,
   "metadata": {},
   "outputs": [],
   "source": [
    "LIMIT = 10\n",
    "ARTIST_ID = 1\n",
    "GENRE = 0\n",
    "CHROMOSOME = 1\n",
    "GENE = 1\n",
    "GENRES = 2\n",
    "FITNESS = 10"
   ]
  },
  {
   "cell_type": "markdown",
   "metadata": {},
   "source": [
    "## Defined Functions"
   ]
  },
  {
   "cell_type": "code",
   "execution_count": null,
   "metadata": {},
   "outputs": [],
   "source": [
    "def printf(parsed):\n",
    "    print(json.dumps(parsed, indent=4, sort_keys=True))"
   ]
  },
  {
   "cell_type": "markdown",
   "metadata": {},
   "source": [
    "# <b> Part 1: Intializing Data From Spotify API\n",
    "## API queries and extracting of relevant data"
   ]
  },
  {
   "cell_type": "markdown",
   "metadata": {},
   "source": [
    "![title](img/gatherUserData.png)"
   ]
  },
  {
   "cell_type": "markdown",
   "metadata": {},
   "source": [
    "## GET Top Tracks\n"
   ]
  },
  {
   "cell_type": "markdown",
   "metadata": {},
   "source": [
    "![title](img/userTopTracks.png)"
   ]
  },
  {
   "cell_type": "code",
   "execution_count": null,
   "metadata": {},
   "outputs": [],
   "source": [
    "\n",
    "url = \"https://api.spotify.com/v1/me/tracks?market=PH&limit=50&offset=0\"\n",
    "\n",
    "headers = CaseInsensitiveDict()\n",
    "headers[\"Accept\"] = \"application/json\"\n",
    "headers[\"Content-Type\"] = \"application/json\"\n",
    "headers[\"Authorization\"] = TOKEN_ACCESS\n",
    "\n",
    "\n",
    "resp = requests.get(url, headers=headers)\n",
    "print(resp)"
   ]
  },
  {
   "cell_type": "markdown",
   "metadata": {},
   "source": [
    "## EXTRACT: track ids, track name, artist name and artist ids\n",
    "\n"
   ]
  },
  {
   "cell_type": "code",
   "execution_count": null,
   "metadata": {},
   "outputs": [],
   "source": [
    "parsed = resp.json()\n",
    "print(resp.status_code)\n",
    "# print(len(parsed['items']))\n",
    "\n",
    "artists_ids = []\n",
    "for item in parsed['items']:\n",
    "      artists_ids.append(item['track']['artists'][0]['id'])\n",
    "\n",
    "      print(f\"track: {item['track']['name']}\")\n",
    "      print(f\"artist: {item['track']['artists'][0]['name']}\\n\")"
   ]
  },
  {
   "cell_type": "markdown",
   "metadata": {},
   "source": [
    "## GET Genre From Artists\n"
   ]
  },
  {
   "cell_type": "code",
   "execution_count": null,
   "metadata": {},
   "outputs": [],
   "source": [
    "printf(artists_ids)"
   ]
  },
  {
   "cell_type": "markdown",
   "metadata": {},
   "source": [
    "![title](img/genreTracks.png)\n"
   ]
  },
  {
   "cell_type": "code",
   "execution_count": null,
   "metadata": {},
   "outputs": [],
   "source": [
    "def get_genre(modified_ids):\n",
    "\n",
    "    url = f\"https://api.spotify.com/v1/artists?ids={modified_ids}\"\n",
    "\n",
    "    headers = CaseInsensitiveDict()\n",
    "    headers[\"Accept\"] = \"application/json\"\n",
    "    headers[\"Content-Type\"] = \"application/json\"\n",
    "    headers[\"Authorization\"] = TOKEN_ACCESS\n",
    "    resp = requests.get(url, headers=headers)\n",
    "\n",
    "    return resp.json()\n",
    "    \n",
    "\n",
    "def slice_genre_list(artists_ids):\n",
    "    new_artists_ids = list(set(artists_ids))\n",
    "    genre_list = []\n",
    "    len_artists = 0\n",
    "    start = 0\n",
    "    while len_artists < len(new_artists_ids):\n",
    "        len_artists+=10\n",
    "        modified_ids = \", \".join(artists_ids[start : len_artists])\n",
    "        modified_ids = modified_ids.replace(' ', '')\n",
    "        genre_list.append(get_genre(modified_ids))\n",
    "        start = len_artists\n",
    " \n",
    "    return genre_list\n",
    "    \n",
    "genre_list =[]\n",
    "genre_list = slice_genre_list(artists_ids)\n",
    "printf(genre_list)\n",
    "\n",
    "\n"
   ]
  },
  {
   "cell_type": "markdown",
   "metadata": {},
   "source": [
    "## EXTRACT: Genres of artists"
   ]
  },
  {
   "cell_type": "code",
   "execution_count": null,
   "metadata": {},
   "outputs": [],
   "source": [
    "genres_initlized= []\n",
    "for artists in genre_list:\n",
    "    for genres in artists['artists']:\n",
    "            ''.append(genres['genres']) "
   ]
  },
  {
   "cell_type": "markdown",
   "metadata": {},
   "source": [
    "## EXTRACT: cccurances in genre"
   ]
  },
  {
   "cell_type": "code",
   "execution_count": null,
   "metadata": {},
   "outputs": [],
   "source": [
    "def genre_occurances(genres_initlized):\n",
    "    genre_occurance = {}\n",
    "    for genre in genres_initlized:\n",
    "        for i in genre:\n",
    "            if  i in genre_occurance.keys():\n",
    "                genre_occurance[i] += 1\n",
    "            else:\n",
    "                genre_occurance[i] = 1  \n",
    "    return genre_occurance      \n",
    "    \n",
    "    \n",
    "genre_occurance = genre_occurances(genres_initlized)    \n",
    "genre_occurance = dict(sorted(genre_occurance.items(), key=lambda item: item[1]))\n",
    "print(json.dumps(genre_occurance, indent=4, sort_keys=False))"
   ]
  },
  {
   "cell_type": "markdown",
   "metadata": {},
   "source": []
  },
  {
   "cell_type": "markdown",
   "metadata": {},
   "source": [
    "## REQUEST: Seeding PH featured playlist from spotify"
   ]
  },
  {
   "cell_type": "markdown",
   "metadata": {},
   "source": [
    "![title](img/featuredPlaylist.png)"
   ]
  },
  {
   "cell_type": "code",
   "execution_count": null,
   "metadata": {},
   "outputs": [],
   "source": [
    "url = \"https://api.spotify.com/v1/browse/featured-playlists?country=PH\"\n",
    "\n",
    "headers = CaseInsensitiveDict()\n",
    "headers[\"Accept\"] = \"application/json\"\n",
    "headers[\"Content-Type\"] = \"application/json\"\n",
    "headers[\"Authorization\"] = TOKEN_ACCESS\n",
    "\n",
    "resp = requests.get(url, headers=headers)\n",
    "\n",
    "parsed = resp.json()\n",
    "print(json.dumps(parsed, indent=4, sort_keys=True))"
   ]
  },
  {
   "cell_type": "markdown",
   "metadata": {},
   "source": [
    "## EXTRACT: extract query result into playlist ID and Name"
   ]
  },
  {
   "cell_type": "code",
   "execution_count": null,
   "metadata": {},
   "outputs": [],
   "source": [
    "playlists = {}\n",
    "playlist_ids = []\n",
    "\n",
    "for item in parsed['playlists']['items']:\n",
    "    playlists[item['id']] = item['name']\n",
    "    playlist_ids.append(item['id'])\n",
    "\n",
    "    print(f\"{item['id']}\\n{item['name']}\" )\n",
    "    print()"
   ]
  },
  {
   "cell_type": "code",
   "execution_count": null,
   "metadata": {},
   "outputs": [],
   "source": [
    "print(playlist_ids)"
   ]
  },
  {
   "cell_type": "markdown",
   "metadata": {},
   "source": [
    "## REQUEST: seeding tracks from each playlist"
   ]
  },
  {
   "cell_type": "markdown",
   "metadata": {},
   "source": [
    "![title](img/populationTracks.png)"
   ]
  },
  {
   "cell_type": "code",
   "execution_count": null,
   "metadata": {},
   "outputs": [],
   "source": [
    "def get_playlist_items(playlist_id):\n",
    "    url = f\"https://api.spotify.com/v1/playlists/{playlist_id}/tracks?market=PH\"\n",
    "\n",
    "    headers = CaseInsensitiveDict()\n",
    "    headers[\"Accept\"] = \"application/json\"\n",
    "    headers[\"Content-Type\"] = \"application/json\"\n",
    "    headers[\"Authorization\"] = TOKEN_ACCESS\n",
    "\n",
    "    resp = requests.get(url, headers=headers)\n",
    "    return resp.json()\n",
    "\n",
    "\n",
    "# playlist_ids = get_playlist_items(playlist_ids)\n",
    "tracks = []\n",
    "for item in playlist_ids:\n",
    "    tracks.append(get_playlist_items(item)) \n",
    "    \n",
    "    #print(json.dumps(track, indent=4, sort_keys=True))\n",
    "printf(tracks)"
   ]
  },
  {
   "cell_type": "code",
   "execution_count": null,
   "metadata": {},
   "outputs": [],
   "source": [
    "# print(tracks)\n",
    "# print(json.dumps(tracks, indent=4, sort_keys=True))\n",
    "print(len(tracks))"
   ]
  },
  {
   "cell_type": "markdown",
   "metadata": {},
   "source": [
    "## Extracting data from query request"
   ]
  },
  {
   "cell_type": "code",
   "execution_count": null,
   "metadata": {},
   "outputs": [],
   "source": [
    "# 3DpduguWUTtn3NQ1PFr2Kd\n",
    "tracks_population = {}\n",
    "artists_ids = []\n",
    "\n",
    "for track in tracks:\n",
    "    for item in track['items']:\n",
    "        if item['track'] is not None:\n",
    "            track_id = item['track']['id']\n",
    "            track_name = item['track']['album']['name']\n",
    "            artists_id = item['track']['album']['artists'][0]['id']\n",
    "            artists_name = item['track']['album']['artists'][0]['name']\n",
    "\n",
    "            tracks_population[track_id] =  [track_name ,{artists_id: artists_name}]\n",
    "            artists_ids.append(artists_id)\n",
    "\n",
    "# print(json.dumps(tracks_population, indent=4, sort_keys=True))\n",
    "printf(tracks_population)"
   ]
  },
  {
   "cell_type": "code",
   "execution_count": null,
   "metadata": {},
   "outputs": [],
   "source": [
    "\n",
    "print(artists_ids)"
   ]
  },
  {
   "cell_type": "markdown",
   "metadata": {},
   "source": [
    "## Removing duplicate Artist's ID\n",
    "### without Removing duplicate the total Artist's ID in the list was 24,000+ which this will result an error in requesting for a query "
   ]
  },
  {
   "cell_type": "code",
   "execution_count": null,
   "metadata": {},
   "outputs": [],
   "source": [
    "artists_ids_set = list(set(artists_ids))\n",
    "printf(artists_ids_set)"
   ]
  },
  {
   "cell_type": "markdown",
   "metadata": {},
   "source": [
    "## Slice list for API requst 50 artist at most"
   ]
  },
  {
   "cell_type": "code",
   "execution_count": null,
   "metadata": {},
   "outputs": [],
   "source": [
    "lst = np.arange(0,len(artists_ids_set),50)\n",
    "len_artists = 0\n",
    "start = 0;\n",
    "\n",
    "genre_list = []\n",
    "while len_artists < len(artists_ids_set):\n",
    "    len_artists+=10\n",
    "    \n",
    "    modified_ids = \", \".join(artists_ids[start : len_artists])\n",
    "    modified_ids = modified_ids.replace(' ', '')    # genre_list.append(get_genre(modified_ids))   \n",
    "    \n",
    "    print() \n",
    "\n",
    "    printf(modified_ids)\n",
    "    genre_list.append(get_genre(modified_ids)) \n",
    "    start = len_artists"
   ]
  },
  {
   "cell_type": "markdown",
   "metadata": {},
   "source": [
    "## Extract artist's genres"
   ]
  },
  {
   "cell_type": "code",
   "execution_count": null,
   "metadata": {},
   "outputs": [],
   "source": [
    "genre_list_all = slice_genre_list(artists_ids_set)\n",
    "printf(genre_list)"
   ]
  },
  {
   "cell_type": "markdown",
   "metadata": {},
   "source": [
    "## EXTRACT: dictionary for artists genre"
   ]
  },
  {
   "cell_type": "code",
   "execution_count": null,
   "metadata": {},
   "outputs": [],
   "source": [
    "genres_in_population= {}\n",
    "for artists in genre_list:\n",
    "    print(genre_list)\n",
    "    for genres in artists['artists']:\n",
    "        genres_in_population[genres['id']] = [genres['genres'],genres['name']]\n",
    "\n",
    "printf(genres_in_population)\n",
    "print(len(genres_in_population))"
   ]
  },
  {
   "cell_type": "markdown",
   "metadata": {},
   "source": [
    "## Adding genres in populated tracks\n",
    "## Initializing list of populated tracks"
   ]
  },
  {
   "cell_type": "code",
   "execution_count": null,
   "metadata": {},
   "outputs": [],
   "source": [
    "def get_key(var):\n",
    "    key = list(var)\n",
    "    return key[0]\n",
    "\n",
    "print(len(tracks_population))\n",
    "\n",
    "database = []\n",
    "for key in tracks_population:\n",
    "    track = tracks_population[key][ARTIST_ID]\n",
    "    id = get_key(tracks_population[key][ARTIST_ID])\n",
    "    \n",
    "    if(id in genres_in_population.keys()):\n",
    "        genre = genres_in_population[id][GENRE]\n",
    "        tracks_population[key].append(genre)\n",
    "        \n",
    "    database.append([key,tracks_population[key]])\n",
    "\n",
    "# print(tracks_population[key])\n",
    "\n",
    "\n",
    "    "
   ]
  },
  {
   "cell_type": "markdown",
   "metadata": {},
   "source": [
    "## database population length"
   ]
  },
  {
   "cell_type": "code",
   "execution_count": null,
   "metadata": {},
   "outputs": [],
   "source": [
    "database_len = len(database)\n",
    "print(database_len)"
   ]
  },
  {
   "cell_type": "markdown",
   "metadata": {},
   "source": [
    "# <b> How do we get the fitness of each chromosome?\n"
   ]
  },
  {
   "cell_type": "markdown",
   "metadata": {},
   "source": [
    "![title](img/populationTracks.png)"
   ]
  },
  {
   "cell_type": "markdown",
   "metadata": {},
   "source": [
    "# <b> Part 2: Initialize Population\n",
    "## Generate 10 random tracks from database and to populated generation"
   ]
  },
  {
   "cell_type": "markdown",
   "metadata": {},
   "source": [
    "![title](img/trackDatabase.png)"
   ]
  },
  {
   "cell_type": "markdown",
   "metadata": {},
   "source": [
    "## Generate Chromosomes and Population"
   ]
  },
  {
   "cell_type": "code",
   "execution_count": null,
   "metadata": {},
   "outputs": [],
   "source": [
    "NUMBER_OF_CHROMO = 4\n",
    "\n",
    "def generate_chromosomes():\n",
    "    num = random.sample(range(database_len), LIMIT)\n",
    "    return num\n",
    "\n",
    "def genrate_population():\n",
    "    population = {}\n",
    "    for gen in range(NUMBER_OF_CHROMO):\n",
    "        chromosomes = []\n",
    "        for index in generate_chromosomes():\n",
    "            chromosomes.append(database[index])\n",
    "        \n",
    "        population[gen] = chromosomes\n",
    "    \n",
    "    return population\n",
    "\n",
    "\n",
    "population = genrate_population()\n"
   ]
  },
  {
   "cell_type": "code",
   "execution_count": null,
   "metadata": {},
   "outputs": [],
   "source": [
    "CHROMOSOME_ZERO = 0\n",
    "printf(population[CHROMOSOME_ZERO])\n"
   ]
  },
  {
   "cell_type": "markdown",
   "metadata": {},
   "source": [
    "# <b> Part 3: Fitness of each chromosome\n",
    "## seed the fitness of a gene and sum the total in each chromosome"
   ]
  },
  {
   "cell_type": "markdown",
   "metadata": {},
   "source": [
    "![title](img/fitness.png)"
   ]
  },
  {
   "cell_type": "code",
   "execution_count": null,
   "metadata": {},
   "outputs": [],
   "source": [
    "def fitness_function(population):\n",
    "    for chromosomes in population:\n",
    "        fitness= 0\n",
    "\n",
    "        for chromosome in population[chromosomes]: \n",
    "            if not isinstance(chromosome, int) and len(chromosome[GENE]) > 2:  \n",
    "                for gene in chromosome[GENE][GENRES]:\n",
    "                    if gene in genre_occurance.keys():\n",
    "                        fitness += genre_occurance[gene]\n",
    "        \n",
    "        if len(population[chromosomes]) > 10:\n",
    "            population[chromosomes][10] = fitness\n",
    "        else: \n",
    "            population[chromosomes].append(fitness)\n",
    "        \n",
    "        # print(population[chromosomes])\n",
    "        \n",
    "fitness_function(population)\n",
    "# printf(population)"
   ]
  },
  {
   "cell_type": "markdown",
   "metadata": {},
   "source": [
    "# <b> Part 4: Selection of parents\n",
    "## The idea of selection phase is to select the fittest individuals and let them pass their genes to the next generation."
   ]
  },
  {
   "cell_type": "markdown",
   "metadata": {},
   "source": [
    "![title](img/parent.png)"
   ]
  },
  {
   "cell_type": "markdown",
   "metadata": {},
   "source": [
    "## Get the highest fitness parents"
   ]
  },
  {
   "cell_type": "code",
   "execution_count": null,
   "metadata": {},
   "outputs": [],
   "source": [
    "def selection_function():\n",
    "    fitness_val = []\n",
    "    for chromosome in population:\n",
    "        fitness = population[chromosome][FITNESS]\n",
    "        fitness_val.append(population[chromosome][FITNESS])\n",
    "\n",
    "    fitness_val.sort(reverse=True)\n",
    "    fitness_val_drop = fitness_val[2:]\n",
    "    fitness_val = fitness_val[:-2] \n",
    "    return fitness_val, fitness_val_drop \n",
    "\n",
    "fitness_val, fitness_val_drop  = selection_function()\n",
    "\n",
    "print(fitness_val)\n",
    "print(fitness_val_drop)"
   ]
  },
  {
   "cell_type": "markdown",
   "metadata": {},
   "source": [
    "# <b> Part 5: Crossover of parents chromosomes\n",
    "## Crossover is the most significant phase in a genetic algorithm. For each pair of parents to be mated, a crossover point is chosen at random from within the genes."
   ]
  },
  {
   "cell_type": "markdown",
   "metadata": {},
   "source": [
    "![title](img/crossover.png)"
   ]
  },
  {
   "cell_type": "code",
   "execution_count": null,
   "metadata": {},
   "outputs": [],
   "source": [
    "def crossover(parent):\n",
    "    for i in range(4):\n",
    "        parent[0][i], parent[1][-(i+2)] = parent[1][-(i+2)], parent[0][i]\n",
    "\n",
    "def crossover_function(fitness):\n",
    "    crossover_parent = []\n",
    "    iteration = 0\n",
    "\n",
    "    for fitness in fitness:\n",
    "        for chromosome in population:\n",
    "            if fitness == population[chromosome][FITNESS]:\n",
    "                iteration+=1\n",
    "                crossover_parent.append(population[chromosome])\n",
    "\n",
    "                if iteration % 2 == 0:\n",
    "                    crossover(crossover_parent)\n",
    "                    crossover_parent.clear()\n",
    "                    \n",
    "\n",
    "crossover_function(fitness_val)\n",
    "crossover_function(fitness_val_drop)"
   ]
  },
  {
   "cell_type": "markdown",
   "metadata": {},
   "source": [
    "# <b> Part 6: Mutation\n",
    "## In certain new offspring formed, some of their genes can be subjected to a mutation with a low random probability.\n"
   ]
  },
  {
   "cell_type": "markdown",
   "metadata": {},
   "source": [
    "![title](img/mutation.png)"
   ]
  },
  {
   "cell_type": "markdown",
   "metadata": {},
   "source": [
    "## Mutation of child chromosome"
   ]
  },
  {
   "cell_type": "code",
   "execution_count": null,
   "metadata": {},
   "outputs": [],
   "source": [
    "def mutation(population_chromosome):\n",
    "    num_of_mutation = random.choice(range(0,2))\n",
    "    for num in range(num_of_mutation):\n",
    "        gene_to_mutate = random.choice(range(0,10))\n",
    "        random_gene = random.choice(range(database_len))\n",
    "        population_chromosome[gene_to_mutate] = database[random_gene]\n",
    "    \n",
    "def mutation_function(fitness,population):    \n",
    "    for fit in fitness:\n",
    "        for chromosome in population:\n",
    "            if fit == population[chromosome][FITNESS]:\n",
    "                mutation_2(population[chromosome])\n"
   ]
  },
  {
   "cell_type": "markdown",
   "metadata": {},
   "source": [
    "## Select the most unfit track\n",
    "### Conditions:<br>lowest genre score track<br>no genre available<br>genre unrealated to users genre count"
   ]
  },
  {
   "cell_type": "code",
   "execution_count": null,
   "metadata": {},
   "outputs": [],
   "source": [
    "BODY = 1\n",
    "DETAILS = 1\n",
    "ID = 0\n",
    "\n",
    "def generate_gene():\n",
    "    random_gene = random.choice(range(database_len))\n",
    "    return database[random_gene]\n",
    "\n",
    "\n",
    "def get_fintess(genres):\n",
    "    fit_value = 0;\n",
    "    for genre in genres:\n",
    "        if genre in genre_occurance.keys():\n",
    "           fit_value += genre_occurance[genre]\n",
    "        \n",
    "    return fit_value\n",
    "\n",
    "def replace_gene_lowest(population_chromosome,key):\n",
    "     for gene in range(len(population_chromosome)):\n",
    "        this_gene = population_chromosome[gene]\n",
    "        if not isinstance(this_gene, int):\n",
    "            if this_gene[ID] == key:\n",
    "                population_chromosome[gene] =  generate_gene()\n",
    "\n",
    "def mutate_low_fit_gene(population_chromosome):\n",
    "    temp = {}\n",
    "    for gene in range(len(population_chromosome)):\n",
    "        this_gene = population_chromosome[gene]\n",
    "        if not isinstance(this_gene, int):   \n",
    "            fit = get_fintess(this_gene[BODY][GENRES])\n",
    "            temp[this_gene[ID]] = fit\n",
    "\n",
    "    # print(temp)\n",
    "    temp = dict(sorted(temp.items(), key=lambda item: item[1]))\n",
    "    key = next(iter(temp))\n",
    "\n",
    "    replace_gene_lowest(population_chromosome,key)\n",
    "    \n",
    "def mutation_2(population_chromosome):\n",
    "    clean = True\n",
    "    for gene in range(len(population_chromosome)):\n",
    "        this_gene = population_chromosome[gene]\n",
    "    \n",
    "        if not isinstance(this_gene, int):\n",
    "            if len(this_gene[BODY]) < 3:\n",
    "                clean = False\n",
    "                population_chromosome[gene] = generate_gene()\n",
    "                break\n",
    "                \n",
    "            if this_gene[BODY][GENRES] == [] :\n",
    "                clean = False\n",
    "                population_chromosome[gene] = generate_gene()\n",
    "                break  \n",
    "\n",
    "    if(clean):\n",
    "        mutate_low_fit_gene(population_chromosome)\n",
    "\n"
   ]
  },
  {
   "cell_type": "code",
   "execution_count": null,
   "metadata": {},
   "outputs": [],
   "source": []
  },
  {
   "cell_type": "code",
   "execution_count": null,
   "metadata": {},
   "outputs": [],
   "source": [
    "def printpop(population_chromosome):\n",
    "    print(population_chromosome)\n",
    "    \n",
    "    for chromosome in population_chromosome:\n",
    "        print(f'{chromosome}')\n",
    "\n",
    "print(f'\\nBefore')\n",
    "for chromosomes in population:\n",
    "    printpop(population[chromosomes])      \n",
    "      \n",
    "\n",
    "mutation_function(fitness_val,population)\n",
    "mutation_function(fitness_val_drop,population)\n",
    "\n",
    "print(f'\\nAfter')\n",
    "for chromosomes in population:\n",
    "    printpop(population[chromosomes])\n",
    "    # printpop(chromosomes)      \n",
    "\n",
    "\n",
    "\n"
   ]
  },
  {
   "cell_type": "code",
   "execution_count": null,
   "metadata": {},
   "outputs": [],
   "source": []
  },
  {
   "cell_type": "markdown",
   "metadata": {},
   "source": [
    "## new chromosomes in low fitness chromosomes"
   ]
  },
  {
   "cell_type": "code",
   "execution_count": null,
   "metadata": {},
   "outputs": [],
   "source": [
    "def generate_new_chromosomes():\n",
    "    new_chromosomes = []\n",
    "    for chromo_index in generate_chromosomes():\n",
    "        new_chromosomes.append(database[chromo_index])\n",
    "       \n",
    "    return new_chromosomes;\n",
    "\n",
    "\n",
    "def new_chromosomes_function():\n",
    "    for fitness in fitness_val_drop:\n",
    "        for chromosome in population:\n",
    "            if len(population[chromosome]) > 10 and fitness == population[chromosome][FITNESS]:\n",
    "                population[chromosome] = generate_new_chromosomes()\n",
    "\n",
    "\n",
    "print ('before')\n",
    "for chromosome in population:\n",
    "    print()\n",
    "    print(population[chromosome])\n",
    "    \n",
    "# new_chromosomes_function()    \n",
    "\n",
    "print ('\\nafter')\n",
    "for chromosome in population:\n",
    "    print()\n",
    "    print(population[chromosome])"
   ]
  },
  {
   "cell_type": "markdown",
   "metadata": {},
   "source": [
    "# <b> Part 6: Loop back until generation 500th"
   ]
  },
  {
   "cell_type": "code",
   "execution_count": null,
   "metadata": {},
   "outputs": [],
   "source": [
    "population = genrate_population()"
   ]
  },
  {
   "cell_type": "code",
   "execution_count": null,
   "metadata": {},
   "outputs": [],
   "source": [
    "def this_generation(generation_count):\n",
    "    avg = 0\n",
    "    print(f'\\nGeneration: {generation_count}\\nFitness: ',end='')\n",
    "    for chromosome in range(4):\n",
    "        print(f'{population[chromosome][10]}', end = ' ')\n",
    "        avg += population[chromosome][10]\n",
    "    \n",
    "    print(f'\\navg: {avg}\\n')"
   ]
  },
  {
   "cell_type": "code",
   "execution_count": null,
   "metadata": {},
   "outputs": [],
   "source": [
    "generation_count = 0\n",
    "MAX_GEN = 250\n",
    "\n",
    "for generation in range(MAX_GEN):\n",
    "     generation_count += 1\n",
    "\n",
    "     fitness_function(population)\n",
    "     this_generation(generation_count)\n",
    "     fitness_val, fitness_val_drop  = selection_function()\n",
    "\n",
    "     crossover_function(fitness_val)\n",
    "     crossover_function(fitness_val_drop)\n",
    "\n",
    "     mutation_function(fitness_val,population)\n",
    "     mutation_function(fitness_val_drop,population)\n",
    "\n",
    "     # new_chromosomes_function() \n",
    "\n"
   ]
  },
  {
   "cell_type": "markdown",
   "metadata": {},
   "source": [
    "# <b>Part 7: The result of Genetic Algorithm"
   ]
  },
  {
   "cell_type": "code",
   "execution_count": null,
   "metadata": {},
   "outputs": [],
   "source": [
    "for chromosomes in population:\n",
    "    print()\n",
    "    for chromosome in population[chromosomes]:\n",
    "        print(chromosome)"
   ]
  },
  {
   "cell_type": "markdown",
   "metadata": {},
   "source": [
    "## Extract the highest fitness chromosome"
   ]
  },
  {
   "cell_type": "code",
   "execution_count": null,
   "metadata": {},
   "outputs": [],
   "source": [
    "most_fit_value = fitness_val[0]\n",
    "print(most_fit_value)"
   ]
  },
  {
   "cell_type": "markdown",
   "metadata": {},
   "source": [
    "# <b> Part 8: Creating the playlist"
   ]
  },
  {
   "cell_type": "markdown",
   "metadata": {},
   "source": [
    "## API request for generating a playlist in spotify"
   ]
  },
  {
   "cell_type": "code",
   "execution_count": null,
   "metadata": {},
   "outputs": [],
   "source": [
    "TOKEN_ACCESS_GENERATE = 'Bearer BQDE4onYvetvIYZRRAv4qTuRc8HApVIZVywAUNH3ewinCPrNV9UCnQJznfLmWAraPwfbe2H1fze5vst8rO9d4CqHgbz6fS-5D-p2HgW-_NMHNGErV5khoOr8Hd38aYkeN9s14PTdQ9rc18R-IO-8X0ADWzknXw0wjfxJXKsL8DQTdGm9-pP8QGG5NLk_h16fJxvf1_Mq4X7boX8fNaZ1syHj3l4lTUHd4UTWNT2xS0HxRhPxSQfRt-FTfg'\n",
    "TITLE  = f\"Groove #{most_fit_value}\"\n",
    "DESCRIPTION = f\"Playlist generated by a genetic algorithm, a method of solving based on a natural selection process that mimics biological evolution, AI analysis from liked tracks, with fitness value of {most_fit_value} in the {MAX_GEN}th generation, developed by Martin Erickson Lapetaje, BSCS-3 of USJ-R\"\n",
    "\n",
    "url = f\"https://api.spotify.com/v1/users/{USER_ID}/playlists\"\n",
    "\n",
    "headers[\"Accept\"] = \"application/json\"\n",
    "headers[\"Content-Type\"] = \"application/json\"\n",
    "headers[\"Authorization\"] = TOKEN_ACCESS\n",
    "\n",
    "data = {\"name\":TITLE,\"description\":DESCRIPTION,\"public\":\"false\"}\n",
    "resp = requests.post(url, headers=headers, data=json.dumps(data))\n",
    "\n",
    "printf(resp.json())"
   ]
  },
  {
   "cell_type": "code",
   "execution_count": null,
   "metadata": {},
   "outputs": [],
   "source": [
    "result = resp.json()\n",
    "playlist_id = result['id']"
   ]
  },
  {
   "cell_type": "markdown",
   "metadata": {},
   "source": [
    "## Appending the parent chromosome track IDs\n"
   ]
  },
  {
   "cell_type": "code",
   "execution_count": null,
   "metadata": {},
   "outputs": [],
   "source": [
    "track_ids =[]\n",
    "for chromosomes in population:\n",
    "    if most_fit_value == population[chromosomes][FITNESS]:\n",
    "        for chromosome in population[chromosomes]:\n",
    "            if not isinstance(chromosome,int):\n",
    "                track_ids.append(\"spotify%3Atrack%3A\"+chromosome[ID])\n",
    "                # track_ids.append(chromosome[ID])\n",
    "                \n",
    "\n",
    "track_ids = \"%2C\".join(track_ids)\n",
    "track_ids = track_ids.replace(' ', '')\n",
    "print(track_ids)\n"
   ]
  },
  {
   "cell_type": "markdown",
   "metadata": {},
   "source": [
    "## Adding the tracks from the result of our Genetic algorithm"
   ]
  },
  {
   "cell_type": "code",
   "execution_count": null,
   "metadata": {},
   "outputs": [],
   "source": [
    "# url = f\"https://api.spotify.com/v1/playlists/{PLAYLIST_ID}/tracks?uris=spotify%3Atrack%3A4iV5W9uYEdYUVa79Axb7Rh%2Cspotify%3Atrack%3A1301WleyT98MSxVHPZCA6M\"\n",
    "url = f\"https://api.spotify.com/v1/playlists/{playlist_id}/tracks?uris={track_ids}\"\n",
    "\n",
    "headers[\"Accept\"] = \"application/json\"\n",
    "headers[\"Content-Type\"] = \"application/json\"\n",
    "headers[\"Authorization\"] = TOKEN_ACCESS\n",
    "headers[\"Content-Length\"] = \"0\"\n",
    "\n",
    "\n",
    "resp = requests.post(url, headers=headers)\n",
    "\n",
    "print(resp.status_code)\n"
   ]
  },
  {
   "cell_type": "markdown",
   "metadata": {},
   "source": [
    "## The generated playlist"
   ]
  },
  {
   "cell_type": "markdown",
   "metadata": {},
   "source": [
    "![title](img/result.png)"
   ]
  }
 ],
 "metadata": {
  "interpreter": {
   "hash": "26e28dbb8479d65e1a830583afe7744fda406e9fe9643cdecb71cada50817399"
  },
  "kernelspec": {
   "display_name": "Python 3",
   "language": "python",
   "name": "python3"
  },
  "language_info": {
   "codemirror_mode": {
    "name": "ipython",
    "version": 3
   },
   "file_extension": ".py",
   "mimetype": "text/x-python",
   "name": "python",
   "nbconvert_exporter": "python",
   "pygments_lexer": "ipython3",
   "version": "3.8.8"
  }
 },
 "nbformat": 4,
 "nbformat_minor": 2
}
